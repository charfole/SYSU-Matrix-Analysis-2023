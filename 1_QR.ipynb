{
 "cells": [
  {
   "attachments": {},
   "cell_type": "markdown",
   "metadata": {},
   "source": [
    "## 1. QR分解代码"
   ]
  },
  {
   "attachments": {},
   "cell_type": "markdown",
   "metadata": {},
   "source": [
    "### 1.1 实现QR分解算法"
   ]
  },
  {
   "cell_type": "code",
   "execution_count": 1,
   "metadata": {},
   "outputs": [],
   "source": [
    "import numpy as np\n",
    "\n",
    "# 定义函数通过qr分解求特征值\n",
    "def qr_eigenvalue(A, threshold=1e-10, file_name=\"A\"):\n",
    "    # 计算迭代次数\n",
    "    i = 0\n",
    "\n",
    "    with open(f\"./result/q1/{file_name}_qr_sequence.txt\", \"w\") as f:\n",
    "        while True:\n",
    "            i = i + 1\n",
    "            # 进行QR分解\n",
    "            Q, R = np.linalg.qr(A)\n",
    "            # 计算A = R * Q\n",
    "            A = R.dot(Q)\n",
    "            # 输出当前的A\n",
    "            print(f\"A{i} = {A}\", file=f)\n",
    "\n",
    "            # 检查矩阵A的下三角元素与0的差异\n",
    "            diff = np.abs(np.tril(A, k=-1))\n",
    "\n",
    "            # 如果差异小于阈值10e-10则退出循环\n",
    "            if np.all(diff < threshold):\n",
    "                break\n",
    "    \n",
    "    # 返回对角线上的元素，即为特征值\n",
    "    eigenvalues = np.diag(A)\n",
    "\n",
    "    return eigenvalues"
   ]
  },
  {
   "attachments": {},
   "cell_type": "markdown",
   "metadata": {},
   "source": [
    "### 1.2 计算QR分解"
   ]
  },
  {
   "cell_type": "code",
   "execution_count": 2,
   "metadata": {},
   "outputs": [
    {
     "name": "stdout",
     "output_type": "stream",
     "text": [
      "矩阵A1特征值: [3.02886853e+01 3.85805746e+00 8.43107150e-01 1.01500484e-02]\n",
      "矩阵A2特征值: [13.1723514   6.55187835  1.59565457 -0.92909628 -0.39078805]\n",
      "矩阵A3特征值: [1.61889986e+00 2.42360871e-01 1.63215213e-02 6.15748354e-04\n",
      " 1.25707571e-05 1.08279948e-07]\n"
     ]
    }
   ],
   "source": [
    "import numpy as np\n",
    "\n",
    "# 定义三个矩阵\n",
    "A1 = np.array([[10, 7, 8, 7], \n",
    "              [7, 5, 6, 5], \n",
    "              [8, 6, 10, 9],\n",
    "              [7, 5, 9, 10]\n",
    "              ])\n",
    "\n",
    "A2 = np.array([[2, 3, 4, 5, 6], \n",
    "              [4, 4, 5, 6, 7], \n",
    "              [0, 3, 6, 7, 8],\n",
    "              [0, 0, 2, 8, 9],\n",
    "              [0, 0, 0, 1, 0]\n",
    "              ])\n",
    "\n",
    "A3 = np.array([[1, 1/2, 1/3, 1/4, 1/5, 1/6], \n",
    "              [1/2, 1/3, 1/4, 1/5, 1/6, 1/7],  \n",
    "              [1/3, 1/4, 1/5, 1/6, 1/7, 1/8],  \n",
    "              [1/4, 1/5, 1/6, 1/7, 1/8, 1/9],  \n",
    "              [1/5, 1/6, 1/7, 1/8, 1/9, 1/10],\n",
    "              [1/6, 1/7, 1/8, 1/9, 1/10, 1/11]\n",
    "              ])\n",
    "\n",
    "# 设置阈值\n",
    "threshold = 1e-10\n",
    "\n",
    "# 调用函数通过QR分解计算特征值\n",
    "A1_eigenvalues = qr_eigenvalue(A1, threshold, \"A1\")\n",
    "A2_eigenvalues = qr_eigenvalue(A2, threshold, \"A2\")\n",
    "A3_eigenvalues = qr_eigenvalue(A3, threshold, \"A3\")\n",
    "\n",
    "print(f\"矩阵A1特征值:\", A1_eigenvalues)\n",
    "print(f\"矩阵A2特征值:\", A2_eigenvalues)\n",
    "print(f\"矩阵A3特征值:\", A3_eigenvalues)"
   ]
  },
  {
   "attachments": {},
   "cell_type": "markdown",
   "metadata": {},
   "source": [
    "### 1.3 计算条件数"
   ]
  },
  {
   "cell_type": "code",
   "execution_count": 3,
   "metadata": {},
   "outputs": [
    {
     "name": "stdout",
     "output_type": "stream",
     "text": [
      "矩阵A条件数: 2984.09270167553\n",
      "矩阵B条件数: 103.31039330100899\n",
      "矩阵C条件数: 14951058.642074944\n"
     ]
    }
   ],
   "source": [
    "def get_condition(A, threshold=1e-10):\n",
    "    # 求A矩阵的转置\n",
    "    A_T = A.T\n",
    "    # 求A矩阵的逆\n",
    "    A_inv = np.linalg.inv(A)\n",
    "    # 求A逆矩阵的转置\n",
    "    A_inv_T = A_inv.T\n",
    "    # 获取最大的特征值以计算条件数\n",
    "    eigens = qr_eigenvalue(np.dot(A_T, A), threshold)\n",
    "    eigens_inv = qr_eigenvalue(np.dot(A_inv_T, A_inv), threshold)\n",
    "    condition = np.sqrt(max(eigens)) * np.sqrt(max(eigens_inv))\n",
    "    return condition\n",
    " \n",
    "condA1 = get_condition(A1, 1e-10)\n",
    "condA2 = get_condition(A2, 1e-10)\n",
    "condA3 = get_condition(A3, 1e-10)\n",
    " \n",
    "print(f\"矩阵A条件数:\", condA1)\n",
    "print(f\"矩阵B条件数:\", condA2)\n",
    "print(f\"矩阵C条件数:\", condA3)"
   ]
  }
 ],
 "metadata": {
  "kernelspec": {
   "display_name": "tf1",
   "language": "python",
   "name": "python3"
  },
  "language_info": {
   "codemirror_mode": {
    "name": "ipython",
    "version": 3
   },
   "file_extension": ".py",
   "mimetype": "text/x-python",
   "name": "python",
   "nbconvert_exporter": "python",
   "pygments_lexer": "ipython3",
   "version": "3.7.16"
  },
  "orig_nbformat": 4
 },
 "nbformat": 4,
 "nbformat_minor": 2
}
